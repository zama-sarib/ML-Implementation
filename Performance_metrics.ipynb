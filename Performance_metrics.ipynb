{
  "nbformat": 4,
  "nbformat_minor": 0,
  "metadata": {
    "colab": {
      "name": "5_Performance_metrics_Instructions.ipynb",
      "provenance": [],
      "collapsed_sections": []
    },
    "language_info": {
      "codemirror_mode": {
        "name": "ipython",
        "version": 3
      },
      "file_extension": ".py",
      "mimetype": "text/x-python",
      "name": "python",
      "nbconvert_exporter": "python",
      "pygments_lexer": "ipython3",
      "version": "3.6.8"
    },
    "kernelspec": {
      "display_name": "Python 3",
      "language": "python",
      "name": "python3"
    },
    "accelerator": "TPU"
  },
  "cells": [
    {
      "cell_type": "markdown",
      "metadata": {
        "id": "s0Ej_bXyQvnV"
      },
      "source": [
        "# Compute performance metrics for the given Y and Y_score without sklearn"
      ]
    },
    {
      "cell_type": "code",
      "metadata": {
        "id": "4CHb6NE7Qvnc"
      },
      "source": [
        "import numpy as np\n",
        "import pandas as pd\n",
        "# other than these two you should not import any other packages"
      ],
      "execution_count": 2,
      "outputs": []
    },
    {
      "cell_type": "markdown",
      "metadata": {
        "id": "KbsWXuDaQvnq"
      },
      "source": [
        "<pre>\n",
        "<font color='red'><b>A.</b></font> Compute performance metrics for the given data <strong>5_a.csv</strong>\n",
        "   <b>Note 1:</b> in this data you can see number of positive points >> number of negatives points\n",
        "   <b>Note 2:</b> use pandas or numpy to read the data from <b>5_a.csv</b>\n",
        "   <b>Note 3:</b> you need to derive the class labels from given score</pre> $y^{pred}= \\text{[0 if y_score < 0.5 else 1]}$\n",
        "\n",
        "<pre>\n",
        "<ol>\n",
        "<li> Compute Confusion Matrix </li>\n",
        "<li> Compute F1 Score </li>\n",
        "<li> Compute AUC Score, you need to compute different thresholds and for each threshold compute tpr,fpr and then use               numpy.trapz(tpr_array, fpr_array) <a href='https://stackoverflow.com/q/53603376/4084039'>https://stackoverflow.com/q/53603376/4084039</a>, <a href='https://stackoverflow.com/a/39678975/4084039'>https://stackoverflow.com/a/39678975/4084039</a> Note: it should be numpy.trapz(tpr_array, fpr_array) not numpy.trapz(fpr_array, tpr_array)</li>\n",
        "<li> Compute Accuracy Score </li>\n",
        "</ol>\n",
        "</pre>"
      ]
    },
    {
      "cell_type": "code",
      "metadata": {
        "id": "WaFLW7oBQvnt",
        "colab": {
          "base_uri": "https://localhost:8080/"
        },
        "outputId": "cfeb445c-de4a-4053-8b46-0a95b484ab32"
      },
      "source": [
        "data = pd.read_csv('/content/5_a.csv')\n",
        "data['y_pred'] = data['proba'].apply(lambda x : 1 if x >= 0.5 else 0)\n",
        "print('Minimum Value of Proba', min(data['proba']))\n",
        "print(data.shape[0])\n",
        "print('-'*50)\n",
        "print()\n",
        "print()\n",
        "print(\"The Value count of y\")\n",
        "print(data['y'].value_counts())\n",
        "print()\n",
        "print()\n",
        "print(\"The Value count of y_pred\")\n",
        "print(data['y_pred'].value_counts())\n",
        "print()\n",
        "print()\n",
        "\n",
        "print(\"Dataset\")\n",
        "print('-'*100)\n",
        "print(data.head())\n",
        "\n",
        "\n",
        "confusion_matrix = [[],\n",
        "                    []]\n",
        "\n",
        "def eval(data):\n",
        "    tp,tn,fp,fn = 0,0,0,0\n",
        "    for row in data.index:\n",
        "        \n",
        "        \n",
        "        if data['y'][row] == 1:\n",
        "            if data['y_pred'][row] == 1:\n",
        "                tp += 1\n",
        "            else:\n",
        "                fn += 1\n",
        "        if data['y'][row] == 0:\n",
        "            if data['y_pred'][row] == 0:\n",
        "                tn += 1\n",
        "            else:\n",
        "                fp += 1\n",
        "    \n",
        "    return tp,tn,fp,fn\n",
        "\n",
        "tp,tn,fp,fn = eval(data)\n",
        "print()\n",
        "print()\n",
        "print()\n",
        "print(\"Confusion Matrix\")\n",
        "print('-'*100)\n",
        "confusion_matrix[0].append(tn)\n",
        "confusion_matrix[0].append(fn)\n",
        "confusion_matrix[1].append(fp)\n",
        "confusion_matrix[1].append(tp)\n",
        "for i in range(len(confusion_matrix)):\n",
        "    print(confusion_matrix[i],end='\\n')\n",
        "\n",
        "''''\n",
        "\n",
        "            'Actual'\n",
        "'Pred'        '0'    '1'\n",
        "        '0'  'TN'   'FN' \n",
        "        '1'  'FP'   'TP'\n",
        "'''\n",
        "\n",
        "precision = tp/(tp+fp)\n",
        "recall = tp/(tp+fn)\n",
        "f1_score = (2 * precision * recall)/(precision + recall)\n",
        "print()\n",
        "print()\n",
        "print()\n",
        "print(\"F1 Score\")\n",
        "print('-'*100)\n",
        "print(f1_score)\n",
        "\n",
        "print()\n",
        "print()\n",
        "print(\"Accuracy score\")\n",
        "print('-'*100)\n",
        "print((tp+tn)/(tp+fp+fn+tn))\n",
        "\n",
        "\n",
        "print(len(np.unique(data['proba'])))\n",
        "\n"
      ],
      "execution_count": 19,
      "outputs": [
        {
          "output_type": "stream",
          "name": "stdout",
          "text": [
            "Minimum Value of Proba 0.5000185949718864\n",
            "10100\n",
            "--------------------------------------------------\n",
            "\n",
            "\n",
            "The Value count of y\n",
            "1.0    10000\n",
            "0.0      100\n",
            "Name: y, dtype: int64\n",
            "\n",
            "\n",
            "The Value count of y_pred\n",
            "1    10100\n",
            "Name: y_pred, dtype: int64\n",
            "\n",
            "\n",
            "Dataset\n",
            "----------------------------------------------------------------------------------------------------\n",
            "     y     proba  y_pred\n",
            "0  1.0  0.637387       1\n",
            "1  1.0  0.635165       1\n",
            "2  1.0  0.766586       1\n",
            "3  1.0  0.724564       1\n",
            "4  1.0  0.889199       1\n",
            "\n",
            "\n",
            "\n",
            "Confusion Matrix\n",
            "----------------------------------------------------------------------------------------------------\n",
            "[0, 0]\n",
            "[100, 10000]\n",
            "\n",
            "\n",
            "\n",
            "F1 Score\n",
            "----------------------------------------------------------------------------------------------------\n",
            "0.9950248756218906\n",
            "\n",
            "\n",
            "Accuracy score\n",
            "----------------------------------------------------------------------------------------------------\n",
            "0.9900990099009901\n",
            "10100\n"
          ]
        }
      ]
    },
    {
      "cell_type": "code",
      "metadata": {
        "id": "ZVKwwWG9JWZ1"
      },
      "source": [
        "from tqdm import tqdm\n",
        "def eval_auc(data):\n",
        "    tp,tn,fp,fn = 0,0,0,0\n",
        "    for idx in range(len(data)):\n",
        "        if data[idx][0] == 1:\n",
        "            if data[idx][2] == 1:\n",
        "                tp += 1\n",
        "            else:\n",
        "                fn += 1\n",
        "        if data[idx][0] == 0:\n",
        "            if data[idx][2] == 0:\n",
        "                tn += 1\n",
        "            else:\n",
        "                fp += 1\n",
        "    \n",
        "    return tp,tn,fp,fn\n"
      ],
      "execution_count": 31,
      "outputs": []
    },
    {
      "cell_type": "code",
      "metadata": {
        "colab": {
          "base_uri": "https://localhost:8080/"
        },
        "id": "KV_q3AIUNk3P",
        "outputId": "ffbf876d-a6cb-4339-baf6-fd536236ca0f"
      },
      "source": [
        "from tqdm import tqdm\n",
        "from numpy import genfromtxt\n",
        "my_data = genfromtxt('/content/5_a.csv', delimiter=',')\n",
        "new_data = np.hstack((my_data,np.zeros((my_data.shape[0],1))))\n",
        "new_data = new_data[new_data[:,1].argsort()[::-1]]\n",
        "\n",
        "\n",
        "unique_proba = np.sort(np.unique(new_data[1:,1]))[::-1]\n",
        "print(new_data)\n",
        "\n",
        "x = []\n",
        "y = []\n",
        "for proba in tqdm(unique_proba):\n",
        "    for idx in range(len(new_data)):\n",
        "        if new_data[idx][1] >= proba:\n",
        "            new_data[idx][2] = 1\n",
        "        else:\n",
        "            new_data[idx][2] = 0\n",
        "    \n",
        "    tp,tn,fp,fn = eval_auc(new_data)\n",
        "    tpr = tp/(tp+fn)\n",
        "    fpr = fp/(fp+tn)\n",
        "    x.append(tpr)\n",
        "    y.append(fpr)\n",
        "\n",
        "x = np.array(x)\n",
        "y = np.array(y)\n",
        "np.trapz(x,y)\n"
      ],
      "execution_count": 16,
      "outputs": [
        {
          "output_type": "stream",
          "name": "stdout",
          "text": [
            "[[       nan        nan 0.        ]\n",
            " [1.         0.89996535 0.        ]\n",
            " [1.         0.89982831 0.        ]\n",
            " ...\n",
            " [1.         0.50005801 0.        ]\n",
            " [1.         0.50004734 0.        ]\n",
            " [1.         0.50001859 0.        ]]\n"
          ]
        },
        {
          "output_type": "stream",
          "name": "stderr",
          "text": [
            "100%|██████████| 10100/10100 [05:18<00:00, 31.71it/s]\n"
          ]
        },
        {
          "output_type": "execute_result",
          "data": {
            "text/plain": [
              "0.48829900000000004"
            ]
          },
          "metadata": {},
          "execution_count": 16
        }
      ]
    },
    {
      "cell_type": "code",
      "metadata": {
        "colab": {
          "base_uri": "https://localhost:8080/",
          "height": 550
        },
        "id": "_A9B1KIrQKyY",
        "outputId": "9773878a-1964-4a96-f2a6-86e2f15fe51f"
      },
      "source": [
        "import matplotlib.pyplot as plt\n",
        "%matplotlib inline\n",
        "plt.figure(figsize=(10,8))\n",
        "plt.plot(x,y)\n",
        "plt.xlabel(\"FPR\")\n",
        "plt.ylabel(\"TPR\")\n",
        "plt.legend()\n",
        "plt.title('AUROC')"
      ],
      "execution_count": 23,
      "outputs": [
        {
          "output_type": "stream",
          "name": "stderr",
          "text": [
            "No handles with labels found to put in legend.\n"
          ]
        },
        {
          "output_type": "execute_result",
          "data": {
            "text/plain": [
              "Text(0.5, 1.0, 'AUROC')"
            ]
          },
          "metadata": {},
          "execution_count": 23
        },
        {
          "output_type": "display_data",
          "data": {
            "image/png": "[encoded data removed]",
            "text/plain": [
              "<Figure size 720x576 with 1 Axes>"
            ]
          },
          "metadata": {
            "needs_background": "light"
          }
        }
      ]
    },
    {
      "cell_type": "markdown",
      "metadata": {
        "id": "V5KZem1BQvn2"
      },
      "source": [
        "<pre>\n",
        "<font color='red'><b>B.</b></font> Compute performance metrics for the given data <strong>5_b.csv</strong>\n",
        "   <b>Note 1:</b> in this data you can see number of positive points << number of negatives points\n",
        "   <b>Note 2:</b> use pandas or numpy to read the data from <b>5_b.csv</b>\n",
        "   <b>Note 3:</b> you need to derive the class labels from given score</pre> $y^{pred}= \\text{[0 if y_score < 0.5 else 1]}$\n",
        "\n",
        "<pre>\n",
        "<ol>\n",
        "<li> Compute Confusion Matrix </li>\n",
        "<li> Compute F1 Score </li>\n",
        "<li> Compute AUC Score, you need to compute different thresholds and for each threshold compute tpr,fpr and then use               numpy.trapz(tpr_array, fpr_array) <a href='https://stackoverflow.com/q/53603376/4084039'>https://stackoverflow.com/q/53603376/4084039</a>, <a href='https://stackoverflow.com/a/39678975/4084039'>https://stackoverflow.com/a/39678975/4084039</a></li>\n",
        "<li> Compute Accuracy Score </li>\n",
        "</ol>\n",
        "</pre>"
      ]
    },
    {
      "cell_type": "code",
      "metadata": {
        "id": "U2sKlq0YQvn5",
        "colab": {
          "base_uri": "https://localhost:8080/"
        },
        "outputId": "c6699aba-3e02-449c-a8e8-99418c736a52"
      },
      "source": [
        "data2 = pd.read_csv('/content/5_b.csv')\n",
        "data2['y_pred'] = data2['proba'].apply(lambda x : 1 if x >= 0.5 else 0)\n",
        "print('Minimum Value of Proba', min(data2['proba']))\n",
        "print(data2.shape[0])\n",
        "print('-'*50)\n",
        "print()\n",
        "print()\n",
        "print(\"The Value count of y\")\n",
        "print(data2['y'].value_counts())\n",
        "print()\n",
        "print()\n",
        "print(\"The Value count of y_pred\")\n",
        "print(data2['y_pred'].value_counts())\n",
        "print()\n",
        "print()\n",
        "\n",
        "print(\"Dataset\")\n",
        "print('-'*100)\n",
        "print(data2.head())\n",
        "\n",
        "\n",
        "confusion_matrix = [[],\n",
        "                    []]\n",
        "\n",
        "def eval(data2):\n",
        "    tp,tn,fp,fn = 0,0,0,0\n",
        "    for row in data2.index:\n",
        "        \n",
        "        \n",
        "        if data2['y'][row] == 1:\n",
        "            if data2['y_pred'][row] == 1:\n",
        "                tp += 1\n",
        "            else:\n",
        "                fn += 1\n",
        "        if data2['y'][row] == 0:\n",
        "            if data2['y_pred'][row] == 0:\n",
        "                tn += 1\n",
        "            else:\n",
        "                fp += 1\n",
        "    \n",
        "    return tp,tn,fp,fn\n",
        "\n",
        "tp,tn,fp,fn = eval(data2)\n",
        "print()\n",
        "print()\n",
        "print()\n",
        "print(\"Confusion Matrix\")\n",
        "print('-'*100)\n",
        "confusion_matrix[0].append(tn)\n",
        "confusion_matrix[0].append(fn)\n",
        "confusion_matrix[1].append(fp)\n",
        "confusion_matrix[1].append(tp)\n",
        "for i in range(len(confusion_matrix)):\n",
        "    print(confusion_matrix[i],end='\\n')\n",
        "\n",
        "''''\n",
        "\n",
        "            'Actual'\n",
        "'Pred'        '0'    '1'\n",
        "        '0'  'TN'   'FN' \n",
        "        '1'  'FP'   'TP'\n",
        "'''\n",
        "\n",
        "precision = tp/(tp+fp)\n",
        "recall = tp/(tp+fn)\n",
        "f1_score = (2 * precision * recall)/(precision + recall)\n",
        "print()\n",
        "print()\n",
        "print()\n",
        "print(\"F1 Score\")\n",
        "print('-'*100)\n",
        "print(f1_score)\n",
        "\n",
        "print()\n",
        "print()\n",
        "print(\"Accuracy score\")\n",
        "print('-'*100)\n",
        "print((tp+tn)/(tp+fp+fn+tn))\n",
        "\n",
        "\n",
        "print(len(np.unique(data2['proba'])))\n",
        "\n"
      ],
      "execution_count": 9,
      "outputs": [
        {
          "output_type": "stream",
          "name": "stdout",
          "text": [
            "Minimum Value of Proba 0.10000141285578913\n",
            "10100\n",
            "--------------------------------------------------\n",
            "\n",
            "\n",
            "The Value count of y\n",
            "0.0    10000\n",
            "1.0      100\n",
            "Name: y, dtype: int64\n",
            "\n",
            "\n",
            "The Value count of y_pred\n",
            "0    9806\n",
            "1     294\n",
            "Name: y_pred, dtype: int64\n",
            "\n",
            "\n",
            "Dataset\n",
            "----------------------------------------------------------------------------------------------------\n",
            "     y     proba  y_pred\n",
            "0  0.0  0.281035       0\n",
            "1  0.0  0.465152       0\n",
            "2  0.0  0.352793       0\n",
            "3  0.0  0.157818       0\n",
            "4  0.0  0.276648       0\n",
            "\n",
            "\n",
            "\n",
            "Confusion Matrix\n",
            "----------------------------------------------------------------------------------------------------\n",
            "[9761, 45]\n",
            "[239, 55]\n",
            "\n",
            "\n",
            "\n",
            "F1 Score\n",
            "----------------------------------------------------------------------------------------------------\n",
            "0.2791878172588833\n",
            "\n",
            "\n",
            "Accuracy score\n",
            "----------------------------------------------------------------------------------------------------\n",
            "0.9718811881188119\n",
            "10100\n"
          ]
        }
      ]
    },
    {
      "cell_type": "code",
      "metadata": {
        "colab": {
          "base_uri": "https://localhost:8080/"
        },
        "id": "rZ44X3NhftT5",
        "outputId": "8ea0922a-d794-44b0-dc90-9f3ea97217a1"
      },
      "source": [
        "from tqdm import tqdm\n",
        "from numpy import genfromtxt\n",
        "my_data2 = genfromtxt('/content/5_b.csv', delimiter=',')\n",
        "new_data2 = np.hstack((my_data2,np.zeros((my_data2.shape[0],1))))\n",
        "new_data2 = new_data2[new_data2[:,1].argsort()[::-1]]\n",
        "\n",
        "\n",
        "unique_proba = np.sort(np.unique(new_data2[1:,1]))[::-1]\n",
        "print(new_data2)\n",
        "\n",
        "x = []\n",
        "y = []\n",
        "for proba in tqdm(unique_proba):\n",
        "    for idx in range(len(new_data2)):\n",
        "        if new_data2[idx][1] >= proba:\n",
        "            new_data2[idx][2] = 1\n",
        "        else:\n",
        "            new_data2[idx][2] = 0\n",
        "    \n",
        "    tp,tn,fp,fn = eval_auc(new_data2)\n",
        "    tpr = tp/(tp+fn)\n",
        "    fpr = fp/(fp+tn)\n",
        "    x.append(tpr)\n",
        "    y.append(fpr)\n",
        "\n",
        "x = np.array(x)\n",
        "y = np.array(y)\n",
        "np.trapz(x,y)\n"
      ],
      "execution_count": 13,
      "outputs": [
        {
          "output_type": "stream",
          "name": "stdout",
          "text": [
            "[[       nan        nan 0.        ]\n",
            " [1.         0.59529418 0.        ]\n",
            " [1.         0.5948084  0.        ]\n",
            " ...\n",
            " [0.         0.10016508 0.        ]\n",
            " [0.         0.1001608  0.        ]\n",
            " [0.         0.10000141 0.        ]]\n"
          ]
        },
        {
          "output_type": "stream",
          "name": "stderr",
          "text": [
            "100%|██████████| 10100/10100 [05:16<00:00, 31.90it/s]\n"
          ]
        },
        {
          "output_type": "execute_result",
          "data": {
            "text/plain": [
              "0.9377570000000001"
            ]
          },
          "metadata": {},
          "execution_count": 13
        }
      ]
    },
    {
      "cell_type": "code",
      "metadata": {
        "colab": {
          "base_uri": "https://localhost:8080/",
          "height": 550
        },
        "id": "zRld2_S2hHZ6",
        "outputId": "7f15be03-8153-477a-fec3-c60e1f5c39c6"
      },
      "source": [
        "import matplotlib.pyplot as plt\n",
        "%matplotlib inline\n",
        "plt.figure(figsize=(10,8))\n",
        "plt.plot(x,y)\n",
        "plt.xlabel(\"FPR\")\n",
        "plt.ylabel(\"TPR\")\n",
        "plt.legend()\n",
        "plt.title('AUROC 5_b.csv')"
      ],
      "execution_count": 14,
      "outputs": [
        {
          "output_type": "stream",
          "name": "stderr",
          "text": [
            "No handles with labels found to put in legend.\n"
          ]
        },
        {
          "output_type": "execute_result",
          "data": {
            "text/plain": [
              "Text(0.5, 1.0, 'AUROC 5_b.csv')"
            ]
          },
          "metadata": {},
          "execution_count": 14
        },
        {
          "output_type": "display_data",
          "data": {
            "image/png": "[encoded data removed]",
            "text/plain": [
              "<Figure size 720x576 with 1 Axes>"
            ]
          },
          "metadata": {
            "needs_background": "light"
          }
        }
      ]
    },
    {
      "cell_type": "markdown",
      "metadata": {
        "id": "GiPGonTzQvoB"
      },
      "source": [
        "<font color='red'><b>C.</b></font> Compute the best threshold (similarly to ROC curve computation) of probability which gives lowest values of metric <b>A</b> for the given data <strong>5_c.csv</strong>\n",
        "<br>\n",
        "\n",
        "you will be predicting label of a data points like this: $y^{pred}= \\text{[0 if y_score < threshold  else 1]}$\n",
        "\n",
        "$ A = 500 \\times \\text{number of false negative} + 100 \\times \\text{numebr of false positive}$\n",
        "\n",
        "<pre>\n",
        "   <b>Note 1:</b> in this data you can see number of negative points > number of positive points\n",
        "   <b>Note 2:</b> use pandas or numpy to read the data from <b>5_c.csv</b>\n",
        "</pre>"
      ]
    },
    {
      "cell_type": "code",
      "metadata": {
        "id": "x5HIJzq1QvoE",
        "colab": {
          "base_uri": "https://localhost:8080/"
        },
        "outputId": "ad6685b4-2253-4c12-d565-46f77aa990e5"
      },
      "source": [
        "from tqdm import tqdm\n",
        "from numpy import genfromtxt\n",
        "my_data2 = genfromtxt('/content/5_c.csv', delimiter=',')\n",
        "new_data2 = np.hstack((my_data2,np.zeros((my_data2.shape[0],1))))\n",
        "new_data2 = new_data2[new_data2[:,1].argsort()[::-1]]\n",
        "\n",
        "\n",
        "unique_proba = np.sort(np.unique(new_data2[1:,1]))[::-1]\n",
        "print(new_data2)\n",
        "\n",
        "best_threshold = 0\n",
        "A_min = 1e50\n",
        "for proba in tqdm(unique_proba):\n",
        "    for idx in range(len(new_data2)):\n",
        "        if new_data2[idx][1] >= proba:\n",
        "            new_data2[idx][2] = 1\n",
        "        else:\n",
        "            new_data2[idx][2] = 0\n",
        "    \n",
        "    tp,tn,fp,fn = eval_auc(new_data2)\n",
        "    A = 500*fn + 100*fp\n",
        "    if A <= A_min:\n",
        "        best_threshold = proba\n",
        "        A_min = A\n",
        "\n",
        "print()\n",
        "print()\n",
        "print('-'*100)\n",
        "print(\"Best Threshold\")\n",
        "print(best_threshold)"
      ],
      "execution_count": 32,
      "outputs": [
        {
          "output_type": "stream",
          "name": "stdout",
          "text": [
            "[[       nan        nan 0.        ]\n",
            " [1.         0.9577468  0.        ]\n",
            " [1.         0.95143692 0.        ]\n",
            " ...\n",
            " [0.         0.02896366 0.        ]\n",
            " [0.         0.02839574 0.        ]\n",
            " [0.         0.02803799 0.        ]]\n"
          ]
        },
        {
          "output_type": "stream",
          "name": "stderr",
          "text": [
            "100%|██████████| 2791/2791 [00:23<00:00, 117.00it/s]"
          ]
        },
        {
          "output_type": "stream",
          "name": "stdout",
          "text": [
            "\n",
            "\n",
            "----------------------------------------------------------------------------------------------------\n",
            "Best Threshold\n",
            "0.2300390278970873\n"
          ]
        },
        {
          "output_type": "stream",
          "name": "stderr",
          "text": [
            "\n"
          ]
        }
      ]
    },
    {
      "cell_type": "markdown",
      "metadata": {
        "id": "sD4CcgjXQvoL"
      },
      "source": [
        "<pre>\n",
        "<font color='red'><b>D.</b></font> Compute performance metrics(for regression) for the given data <strong>5_d.csv</strong>\n",
        "    <b>Note 2:</b> use pandas or numpy to read the data from <b>5_d.csv</b>\n",
        "    <b>Note 1:</b> <b>5_d.csv</b> will having two columns Y and predicted_Y both are real valued features\n",
        "<ol>\n",
        "<li> Compute Mean Square Error </li>\n",
        "<li> Compute MAPE: https://www.youtube.com/watch?v=ly6ztgIkUxk</li>\n",
        "<li> Compute R^2 error: https://en.wikipedia.org/wiki/Coefficient_of_determination#Definitions </li>\n",
        "</ol>\n",
        "</pre>"
      ]
    },
    {
      "cell_type": "code",
      "metadata": {
        "colab": {
          "base_uri": "https://localhost:8080/"
        },
        "id": "Ly6IO5QKnn9d",
        "outputId": "aad20810-f984-42e8-8fdf-135fde5f3255"
      },
      "source": [
        "#Compute Mean Square Error\n",
        "\n",
        "from tqdm import tqdm\n",
        "from numpy import genfromtxt\n",
        "my_data4 = genfromtxt('/content/5_d.csv', delimiter=',')\n",
        "\n",
        "mse = 0\n",
        "cnt = 0\n",
        "for row in tqdm(range(len(my_data4))):\n",
        "    if np.isnan(my_data4[row][0]) or np.isnan(my_data4[row][1]):\n",
        "        pass\n",
        "    else:\n",
        "        cnt += 1\n",
        "        mse += (my_data4[row][0]-my_data4[row][1])**2\n",
        "\n",
        "mse = mse/float(len(my_data4))\n",
        "print()\n",
        "print()\n",
        "print('-'*100)\n",
        "print(\"Mean Square Error\")\n",
        "print(mse)"
      ],
      "execution_count": 19,
      "outputs": [
        {
          "output_type": "stream",
          "name": "stderr",
          "text": [
            "100%|██████████| 157201/157201 [00:01<00:00, 135884.74it/s]"
          ]
        },
        {
          "output_type": "stream",
          "name": "stdout",
          "text": [
            "\n",
            "\n",
            "----------------------------------------------------------------------------------------------------\n",
            "Mean Square Error\n",
            "177.16457274444818\n"
          ]
        },
        {
          "output_type": "stream",
          "name": "stderr",
          "text": [
            "\n"
          ]
        }
      ]
    },
    {
      "cell_type": "code",
      "metadata": {
        "colab": {
          "base_uri": "https://localhost:8080/"
        },
        "id": "kgqdibS3oQn9",
        "outputId": "22bc49b6-f5bd-48db-c938-17e5d90e8093"
      },
      "source": [
        "from sklearn.metrics import mean_squared_error\n",
        "data_temp = pd.read_csv(\"/content/5_d.csv\")\n",
        "mse_eval = mean_squared_error(data_temp['y'],data_temp['pred'])\n",
        "print(mse_eval)"
      ],
      "execution_count": 18,
      "outputs": [
        {
          "output_type": "stream",
          "name": "stdout",
          "text": [
            "177.16569974554707\n"
          ]
        }
      ]
    },
    {
      "cell_type": "code",
      "metadata": {
        "colab": {
          "base_uri": "https://localhost:8080/"
        },
        "id": "VyPl3PwucN3j",
        "outputId": "6932d637-4c57-467b-88c1-d8d5de3c46e9"
      },
      "source": [
        "#Compute MAPE (Mean absolute Percentage Error)\n",
        "data4 = pd.read_csv(\"/content/5_d.csv\")\n",
        "data4 = data4.rename(columns={'pred':'y_pred'})\n",
        "data4.head()\n",
        "\n",
        "error = 0\n",
        "y_sum = 0\n",
        "for row in tqdm(data4.index):\n",
        "    error += np.absolute(data4['y'][row] - data4['y_pred'][row])\n",
        "    y_sum += np.absolute(data4['y'][row])\n",
        "\n",
        "print()\n",
        "print()\n",
        "print(\"-\"*100)\n",
        "print('MAPE')\n",
        "mape = error/y_sum\n",
        "print(mape)"
      ],
      "execution_count": 11,
      "outputs": [
        {
          "output_type": "stream",
          "name": "stderr",
          "text": [
            "100%|██████████| 157200/157200 [00:04<00:00, 34814.90it/s]"
          ]
        },
        {
          "output_type": "stream",
          "name": "stdout",
          "text": [
            "\n",
            "\n",
            "----------------------------------------------------------------------------------------------------\n",
            "MAPE\n",
            "0.1291202994009687\n"
          ]
        },
        {
          "output_type": "stream",
          "name": "stderr",
          "text": [
            "\n"
          ]
        }
      ]
    },
    {
      "cell_type": "code",
      "metadata": {
        "colab": {
          "base_uri": "https://localhost:8080/"
        },
        "id": "ygKqhAlygLyk",
        "outputId": "7a137ae5-644e-4807-9a16-95731dc091e0"
      },
      "source": [
        "# Compute the R^2 \n",
        "\n",
        "data4 = pd.read_csv(\"/content/5_d.csv\")\n",
        "data4 = data4.rename(columns={'pred':'y_pred'})\n",
        "data4.head()\n",
        "\n",
        "ss_total = 0\n",
        "ss_res = 0\n",
        "y_bar = np.mean(data4['y'])\n",
        "print(y_bar)\n",
        "for row in tqdm(data4.index):\n",
        "    ss_res += (data4['y'][row] - data4['y_pred'][row])**2\n",
        "    ss_total += (data4['y'][row] - y_bar)**2\n",
        "\n",
        "ss_res /= data4.shape[0]\n",
        "ss_total /=  data4.shape[0]\n",
        "\n",
        "print()\n",
        "print()\n",
        "print(\"-\"*100)\n",
        "print(\"R^2 error\")\n",
        "r_2 = 1 - (ss_res/ss_total)\n",
        "print(r_2)"
      ],
      "execution_count": 16,
      "outputs": [
        {
          "output_type": "stream",
          "name": "stdout",
          "text": [
            "66.56208651399491\n"
          ]
        },
        {
          "output_type": "stream",
          "name": "stderr",
          "text": [
            "100%|██████████| 157200/157200 [00:03<00:00, 42837.27it/s]"
          ]
        },
        {
          "output_type": "stream",
          "name": "stdout",
          "text": [
            "\n",
            "\n",
            "----------------------------------------------------------------------------------------------------\n",
            "R^2 error\n",
            "0.9563582786990964\n"
          ]
        },
        {
          "output_type": "stream",
          "name": "stderr",
          "text": [
            "\n"
          ]
        }
      ]
    },
    {
      "cell_type": "code",
      "metadata": {
        "colab": {
          "base_uri": "https://localhost:8080/"
        },
        "id": "6cXmt9pPhln8",
        "outputId": "99b3bfe6-9c46-4530-d2f7-c292fb03de85"
      },
      "source": [
        "from sklearn.metrics import r2_score\n",
        "print(r2_score(data4['y'],data4['y_pred']))"
      ],
      "execution_count": 17,
      "outputs": [
        {
          "output_type": "stream",
          "name": "stdout",
          "text": [
            "0.9563582786990937\n"
          ]
        }
      ]
    }
  ]
}