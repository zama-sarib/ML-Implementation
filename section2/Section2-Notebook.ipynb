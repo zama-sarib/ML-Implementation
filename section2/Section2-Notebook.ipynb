{
 "cells": [
  {
   "cell_type": "markdown",
   "metadata": {},
   "source": [
    "# Section 2 - Coding\n",
    "\n",
    "In this section we will load and manipulate \"unconventional\" data files - for which you will be required to create a simple loading functionality and then be able to process and query a data file.\n",
    "\n",
    "There is a \"section2_data.txt\" file attached to this IPython notebook. The data file contains few rows from a computer vision dataset. Each row corresponds to a frame in a video and contains some metadata and annotations over it.\n",
    "\n",
    "The following notebook will pose some questions about reading and processing this data.\n",
    "\n",
    "Feel free to use any existing python library to answer the questions."
   ]
  },
  {
   "cell_type": "code",
   "execution_count": null,
   "metadata": {},
   "outputs": [],
   "source": [
    "# Importing necessary Libraries\n",
    "import re\n",
    "import os"
   ]
  },
  {
   "cell_type": "code",
   "execution_count": 1,
   "metadata": {},
   "outputs": [
    {
     "name": "stdout",
     "output_type": "stream",
     "text": [
      "{\"_i\": 0, \"frame\": \"frame_000.png\", \"video\": \"video000\", \"value\": 39, \"labels\": [\"bird\"]}\r\n",
      "{\"_i\": 1, \"frame\": \"frame_001.png\", \"video\": \"video000\", \"value\": 33, \"labels\": [\"frog\", \"dog\"]}\r\n",
      "{\"_i\": 2, \"frame\": \"frame_002.png\", \"video\": \"video000\", \"value\": 25, \"labels\": [\"panda\", \"panda\"]}\r\n",
      "{\"_i\": 3, \"frame\": \"frame_003.png\", \"video\": \"video000\", \"value\": 28, \"labels\": [\"dog\", \"dog\"]}\r\n",
      "{\"_i\": 4, \"frame\": \"frame_004.png\", \"video\": \"video000\", \"value\": 16, \"labels\": [\"cat\"]}\r\n",
      "{\"_i\": 5, \"frame\": \"frame_005.png\", \"video\": \"video000\", \"value\": 32, \"labels\": [\"bird\", \"frog\", \"bird\"]}\r\n",
      "{\"_i\": 6, \"frame\": \"frame_006.png\", \"video\": \"video000\", \"value\": 35, \"labels\": [\"bird\", \"dog\"]}\r\n",
      "{\"_i\": 7, \"frame\": \"frame_000.png\", \"video\": \"video001\", \"value\": 25, \"labels\": [\"dog\", \"bird\"]}\r\n",
      "{\"_i\": 8, \"frame\": \"frame_001.png\", \"video\": \"video001\", \"value\": 16, \"labels\": [\"dog\", \"panda\", \"bird\"]}\r\n",
      "{\"_i\": 9, \"frame\": \"frame_002.png\", \"video\": \"video001\", \"value\": 23, \"labels\": [\"panda\"]}\r\n"
     ]
    }
   ],
   "source": [
    "# Head(top few rows) view of the text file\n",
    "!head section2_data.txt"
   ]
  },
  {
   "cell_type": "markdown",
   "metadata": {},
   "source": [
    "## Section 1 - Design a data loader\n",
    "\n",
    "Design a data structure, that give a file path `\"section2_data.txt\"`, it will read and parse the contents of the file above.\n",
    "\n",
    "#### Q1 - Design the data structure with the following properties:\n",
    "- The data structure is either callable or indexable. It will accepts a single parameter, as integer, and return the parsed contents of the row corresponding to the given index.\n",
    "- The data structure needs to return the number of rows in the file (and in memory) when called with the python command `len(my_data_struct)`\n"
   ]
  },
  {
   "cell_type": "code",
   "execution_count": 2,
   "metadata": {
    "ExecuteTime": {
     "end_time": "2021-06-22T09:41:50.450031Z",
     "start_time": "2021-06-22T09:41:50.441896Z"
    }
   },
   "outputs": [
    {
     "name": "stdout",
     "output_type": "stream",
     "text": [
      "{\"_i\": 4, \"frame\": \"frame_004.png\", \"video\": \"video000\", \"value\": 16, \"labels\": [\"cat\"]}\n",
      "\n",
      "51\n"
     ]
    }
   ],
   "source": [
    "## YOUR SOLUTION\n",
    "\n",
    "# We are creating the requried datastructure to ouput the parsed content \n",
    "# of the index provided by the user\n",
    "\n",
    "# It returns the the parsed row and the file that is present in the ram\n",
    "# currently so as to invoke the 'len' function to compute the length of\n",
    "# file stored in the ram\n",
    "\n",
    "def datastruct(idx):\n",
    "    '''\n",
    "    It is used to return the parsed row \n",
    "    of the index passed as an arguement\n",
    "    by the user.\n",
    "    \n",
    "    It also return the file currentlty \n",
    "    stored in the ram so as to give the\n",
    "    user to use the \"len\" functionality\n",
    "    on the return text file.\n",
    "    \n",
    "    '''\n",
    "\n",
    "    if os.path.exists(\"./section2_data.txt\") is not None:   #checking if the path contains the required files\n",
    "        with open(\"section2_data.txt\") as file:             # opening the file using context manager\n",
    "            my_data_struct = file.readlines()               # reading the file content line by line.\n",
    "            if idx < 0:\n",
    "                print (\"Please enter positive index\")\n",
    "            elif idx > len(my_data_struct)-1:\n",
    "                print(\"Index out of range! Please enter the index in range {} - {}\".format(0,len(my_data_struct))) \n",
    "            else:\n",
    "                return my_data_struct[idx],my_data_struct\n",
    "        file.closed\n",
    "        \n",
    "    else:\n",
    "        print(\"Error:File not found !!\")\n",
    "\n",
    "        \n",
    "\n",
    "content,my_data_struct = datastruct(4)\n",
    "print(content)\n",
    "print(len(my_data_struct))"
   ]
  },
  {
   "cell_type": "markdown",
   "metadata": {},
   "source": [
    "#### Q2 - Prove that you can initialize the reader and then calculate its length `len(reader)` and print the 26th and 43rd elements of the dataset."
   ]
  },
  {
   "cell_type": "code",
   "execution_count": 3,
   "metadata": {},
   "outputs": [
    {
     "name": "stdout",
     "output_type": "stream",
     "text": [
      "The length of the reader is : 5014\n",
      "'_' is the 26th element\n",
      "':' is the 43th element\n"
     ]
    }
   ],
   "source": [
    "## YOUR SOLUTION\n",
    "if os.path.exists(\"./section2_data.txt\") is not None:                #checking if the path contains the required files\n",
    "    with open(\"./section2_data.txt\") as file:                        # opening the file using context manager\n",
    "        text = file.read()                                           # reading the file content.\n",
    "        print(\"The length of the reader is : {}\".format(len(text)))z\n",
    "        curr_pos = file.seek(25)                                     # moving the file pointer to 26 position\n",
    "        print(\"'{}' is the 26th element\".format(file.read(1)))\n",
    "        file.seek(42-curr_pos)                                       # moving the file pointer to 43 positon from the current positon(25th)\n",
    "        print(\"'{}' is the 43th element\".format(file.read(1)))\n",
    "    file.closed\n",
    "else:\n",
    "    print(\"Error: File not found\")"
   ]
  },
  {
   "cell_type": "markdown",
   "metadata": {},
   "source": [
    "## Section 2 - Process the data\n",
    "\n",
    "#### Q1 - Write an algorithm that will generate a dictionary with key/value pairs, where the keys are the name of each unique video in the dataset and the value is the number of frames of that video."
   ]
  },
  {
   "cell_type": "code",
   "execution_count": 4,
   "metadata": {},
   "outputs": [
    {
     "name": "stdout",
     "output_type": "stream",
     "text": [
      "{'video000': 208, 'video001': 175, 'video002': 149, 'video003': 402, 'video004': 251}\n"
     ]
    }
   ],
   "source": [
    "### YOUT SOLUTION\n",
    "import re\n",
    "def video_frame_count(my_data_struct):\n",
    "    hashmap = dict()\n",
    "    for i in range(len(my_data_struct)):\n",
    "        line = my_data_struct[i]             # For each line in the file we are storing in variable called line\n",
    "        key = ''\n",
    "        value = ''\n",
    "        key = re.findall('video[+0-9][+0-9][+0-9]',line)[0]  # we are applying regular expression i.e 'video followed by 1 or more digit, 1 or more digit,1 or more digit'.\n",
    "        value = line.split('\"value\": ')[1][0:2]              # we are spliting the text into two token using \"value\" keyword and selecting 2nd token and then performing the string slicing.\n",
    "        value = re.sub(',','',value)              # replacing the value ',' with ''.\n",
    "        value = int(value)                        # converting the string value obtained to integer.\n",
    "        if hashmap.get(key) is not None:          # checking if the value is already present in the hashmap if not then we are adding the value.\n",
    "            hashmap[key] = hashmap[key]+value\n",
    "        else:\n",
    "            hashmap[key] = value\n",
    "            \n",
    "        \n",
    "    return hashmap\n",
    "\n",
    "\n",
    "print(video_frame_count(my_data_struct))\n",
    "    "
   ]
  },
  {
   "cell_type": "markdown",
   "metadata": {},
   "source": [
    "#### Q2 - Write an algorithm that will generate a dictionary with key/value pairs, where the keys are the name of each unique video in the dataset and the value is the sum of the `value` field of all the frames containing a `dog`."
   ]
  },
  {
   "cell_type": "code",
   "execution_count": 5,
   "metadata": {},
   "outputs": [
    {
     "name": "stdout",
     "output_type": "stream",
     "text": [
      "{'video000': 96, 'video001': 69, 'video002': 91, 'video003': 129, 'video004': 49}\n"
     ]
    }
   ],
   "source": [
    "### YOUR SOLUTION\n",
    "def video_value_sum_with_dog(my_data_struct):\n",
    "    hashmap = dict()\n",
    "    for i in range(len(my_data_struct)):        \n",
    "        line = my_data_struct[i]                # For each line in the file we are storing in variable called line\n",
    "        label = line.split('\"labels\"')[1]       # splitting the text using \"labels\" token and using the 2nd token.\n",
    "        if 'dog' in label:                      # checking if the \"dog\" is present in the label\n",
    "            key = ''\n",
    "            value = ''\n",
    "            key = re.findall('video[+0-9][+0-9][+0-9]',line)[0]         # we are applying regular expression i.e 'video followed by 1 or more digit, 1 or more digit,1 or more digit'.\n",
    "            value = line.split('\"value\": ')[1][0:2]                     # we are spliting the text into two token using \"value\" keyword and selecting 2nd token and then performing the string slicing.\n",
    "            value = re.sub(',','',value)                 # replacing the value ',' with ''.\n",
    "            value = int(value)                           # converting the string value obtained to integer.\n",
    "            if hashmap.get(key) is not None:             # checking if the value is already present in the hashmap if not then we are adding the value.\n",
    "                hashmap[key] = hashmap[key]+value\n",
    "            else:\n",
    "                hashmap[key] = value\n",
    "            \n",
    "        \n",
    "    return hashmap\n",
    "\n",
    "print(video_value_sum_with_dog(my_data_struct))"
   ]
  },
  {
   "cell_type": "markdown",
   "metadata": {},
   "source": [
    "#### Q3 - Last, create an algorithm that returns a dictionary with the count of each of the animal types in the dataset, excluding occurrences in `video003` and rows where the `value` is odd."
   ]
  },
  {
   "cell_type": "code",
   "execution_count": 6,
   "metadata": {},
   "outputs": [
    {
     "name": "stdout",
     "output_type": "stream",
     "text": [
      "{'dog': 9, 'cat': 6, 'frog': 8, 'bird': 5, 'panda': 4}\n"
     ]
    }
   ],
   "source": [
    "### YOUR SOLUTION\n",
    "def animal_count(my_data_struct):\n",
    "    hashmap = dict()\n",
    "    for i in range(len(my_data_struct)):\n",
    "        line = my_data_struct[i]              # For each line in the file we are storing in variable called line\n",
    "        animal = ''\n",
    "        video = ''\n",
    "        value = ''\n",
    "        animals = line.split('\"labels\": ')[1]                                          # we are splitting the text using \"labels\" and selecting the 2nd token\n",
    "        animals = animals.replace('[','').replace('\"','').replace(']','').replace('}','').replace('\\n','').replace(' ','')        # necessary substitution for text processing\n",
    "        animals = list(set(animals.split(',')))                                        # we are splitting the animals text obatined after parsing the text and then converting it into set and finbally into list for further processing\n",
    "        video = re.findall('video[+0-9][+0-9][+0-9]',line)[0]                          # extracting the videoname from the text.\n",
    "        value = line.split('\"value\": ')[1][0:2]\n",
    "        value = re.sub(',','',value)\n",
    "        value = int(value)\n",
    "        if video != 'video003' and value%2 == 0:\n",
    "            for animal in animals:\n",
    "                if hashmap.get(animal) is not None:\n",
    "                    hashmap[animal] += 1\n",
    "                else:\n",
    "                    hashmap[animal] = 1\n",
    "        \n",
    "    return(hashmap)\n",
    "        \n",
    "print(animal_count(my_data_struct))\n",
    "    \n",
    "   "
   ]
  }
 ],
 "metadata": {
  "interpreter": {
   "hash": "569d6b7e9215e11aba41c6454007e5c1b78bad7df09dab765d8cf00362c40f03"
  },
  "kernelspec": {
   "display_name": "Python 3",
   "language": "python",
   "name": "python3"
  },
  "language_info": {
   "codemirror_mode": {
    "name": "ipython",
    "version": 3
   },
   "file_extension": ".py",
   "mimetype": "text/x-python",
   "name": "python",
   "nbconvert_exporter": "python",
   "pygments_lexer": "ipython3",
   "version": "3.8.8"
  },
  "toc": {
   "base_numbering": 1,
   "nav_menu": {},
   "number_sections": true,
   "sideBar": true,
   "skip_h1_title": false,
   "title_cell": "Table of Contents",
   "title_sidebar": "Contents",
   "toc_cell": false,
   "toc_position": {},
   "toc_section_display": true,
   "toc_window_display": false
  },
  "varInspector": {
   "cols": {
    "lenName": 16,
    "lenType": 16,
    "lenVar": 40
   },
   "kernels_config": {
    "python": {
     "delete_cmd_postfix": "",
     "delete_cmd_prefix": "del ",
     "library": "var_list.py",
     "varRefreshCmd": "print(var_dic_list())"
    },
    "r": {
     "delete_cmd_postfix": ") ",
     "delete_cmd_prefix": "rm(",
     "library": "var_list.r",
     "varRefreshCmd": "cat(var_dic_list()) "
    }
   },
   "types_to_exclude": [
    "module",
    "function",
    "builtin_function_or_method",
    "instance",
    "_Feature"
   ],
   "window_display": false
  }
 },
 "nbformat": 4,
 "nbformat_minor": 2
}
